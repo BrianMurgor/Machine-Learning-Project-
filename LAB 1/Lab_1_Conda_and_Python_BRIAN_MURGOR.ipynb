{
  "cells": [
    {
      "cell_type": "markdown",
      "metadata": {
        "id": "lvUtSMSIoWVF"
      },
      "source": [
        "# Machine Learning - Lab 1\n",
        "This lab provides you with basic essentials of:\n",
        "1. Setting up your development environment (virtual environment)\n",
        "2. Python and Libraries\n"
      ],
      "id": "lvUtSMSIoWVF"
    },
    {
      "cell_type": "markdown",
      "id": "7715ced7",
      "metadata": {
        "id": "7715ced7"
      },
      "source": [
        "\n",
        "# Introduction to Conda\n",
        "\n",
        "## What is Conda?\n",
        "Conda is an open-source package management system and environment management system. It simplifies the installation and management of software packages and their dependencies for Python projects.\n",
        "\n",
        "## Why use Conda?\n",
        "Conda allows you to create isolated environments for different projects, ensuring that each project has its own dependencies and packages without affecting others.\n",
        "\n",
        "## Task\n",
        "1. Install Conda by following the instructions on the official website: [Conda Installation Guide](https://docs.conda.io/projects/conda/en/latest/user-guide/install/index.html).\n",
        "2. Verify the installation by running `conda --version` in your terminal.\n",
        "\n",
        "## Assessment Question\n",
        "- Why is it beneficial to use Conda for Python environment management, especially in machine learning and data science projects?\n"
      ]
    },
    {
      "cell_type": "code",
      "execution_count": 21,
      "id": "9c2f4bb7",
      "metadata": {
        "id": "9c2f4bb7"
      },
      "outputs": [],
      "source": [
        "\n",
        "# Conda's robust dependency management, environment isolation, cross-platform compatibility, and extensive package collection make it a valuable tool for managing Python environments, particularly in the context of machine learning and data science projects, where complex dependencies and reproducibility are crucial."
      ]
    },
    {
      "cell_type": "code",
      "source": [],
      "metadata": {
        "id": "Rp8dEO0dp81m"
      },
      "id": "Rp8dEO0dp81m",
      "execution_count": 6,
      "outputs": []
    },
    {
      "cell_type": "markdown",
      "id": "56b6940f",
      "metadata": {
        "id": "56b6940f"
      },
      "source": [
        "\n",
        "# Setting up a Python Environment with Conda\n",
        "\n",
        "## Creating and Managing Environments\n",
        "Conda allows you to create separate environments for different projects, each with its own set of packages.\n",
        "\n",
        "## Task\n",
        "1. Create a new Conda environment named 'ml_lab1' with Python 3.8: `conda create --name ml_lab1 python=3.8`\n",
        "2. Activate the environment: `conda activate ml_lab1`\n",
        "3. Install NumPy, Pandas, Matplotlib, and SciPy in the environment.\n",
        "\n",
        "## Assessment Question\n",
        "- Describe the steps to create a new environment in Conda and install a specific version of Python and a few packages.\n"
      ]
    },
    {
      "cell_type": "code",
      "execution_count": 7,
      "id": "26a50fae",
      "metadata": {
        "id": "26a50fae"
      },
      "outputs": [],
      "source": [
        "\n",
        "# ## Step 1 - Create Enviroment with the below in Terminal\n",
        "# conda create --name ml_lab1 python=3.8\n",
        "## Step 2 - Activate Enviroment\n",
        "# conda activate ml_lab1\n",
        "## Step 3 - Install all other Packages in Terminal\n",
        "# conda install  numpy pandas matplotlib scipy\n"
      ]
    },
    {
      "cell_type": "code",
      "source": [
        "listMain = list([1,2,3,4,5,6,7,8,9,10])\n",
        "listEven = []\n",
        "for x in listMain:\n",
        "    if x % 2 == 0:\n",
        "        listEven.append(x)\n",
        "print(listEven)"
      ],
      "metadata": {
        "colab": {
          "base_uri": "https://localhost:8080/"
        },
        "id": "MDOZ8padqcBq",
        "outputId": "63daf92f-c4a9-4a0e-d590-10d7aab15aa3"
      },
      "id": "MDOZ8padqcBq",
      "execution_count": 8,
      "outputs": [
        {
          "output_type": "stream",
          "name": "stdout",
          "text": [
            "[2, 4, 6, 8, 10]\n"
          ]
        }
      ]
    },
    {
      "cell_type": "markdown",
      "id": "81701a45",
      "metadata": {
        "id": "81701a45"
      },
      "source": [
        "\n",
        "# Introduction to Python Basics\n",
        "\n",
        "Python is a popular programming language for data analysis and machine learning. In this section, we'll cover basic Python syntax and data types.\n",
        "\n",
        "## Task\n",
        "Write a Python script that takes a list of numbers and returns a list containing only the even numbers.\n",
        "\n",
        "## Assessment Question\n",
        "- Explain the difference between a list and a tuple in Python.\n"
      ]
    },
    {
      "cell_type": "code",
      "execution_count": 9,
      "id": "cc158494",
      "metadata": {
        "id": "cc158494"
      },
      "outputs": [],
      "source": [
        "#a list is mutable and can be modified while a tuple are immutable and are slightly faster for iteration and certain operations and also remain constant throughout its lifespan when needing a collection"
      ]
    },
    {
      "cell_type": "markdown",
      "id": "c64a4156",
      "metadata": {
        "id": "c64a4156"
      },
      "source": [
        "\n",
        "# Working with NumPy\n",
        "\n",
        "NumPy is a fundamental package for scientific computing with Python. It provides support for large, multi-dimensional arrays and matrices, along with a large collection of high-level mathematical functions to operate on these arrays.\n",
        "\n",
        "## Task\n",
        "Create a NumPy array and perform basic array operations (addition, multiplication).\n",
        "\n",
        "## Assessment Question\n",
        "- What are the advantages of using NumPy arrays over standard Python lists for numerical data?\n"
      ]
    },
    {
      "cell_type": "code",
      "execution_count": 10,
      "id": "d2a5aa23",
      "metadata": {
        "colab": {
          "base_uri": "https://localhost:8080/"
        },
        "id": "d2a5aa23",
        "outputId": "f00f0260-7837-4719-bf86-c339fe538855"
      },
      "outputs": [
        {
          "output_type": "stream",
          "name": "stdout",
          "text": [
            "Array =  [1 2 3 4 5]\n",
            "Array + 5 = [11 12 13 14 15]\n",
            "Array * 2 = [ 5 10 15 20 25]\n"
          ]
        }
      ],
      "source": [
        "import numpy as np\n",
        "array = np.array([1, 2, 3, 4, 5])\n",
        "print(\"Array = \", array)\n",
        "added_array = array + 10\n",
        "print(\"Array + 5 =\", added_array)\n",
        "multiplied_array = array * 5\n",
        "print(\"Array * 2 =\", multiplied_array)\n",
        "\n"
      ]
    },
    {
      "cell_type": "code",
      "source": [
        "# The adavantage of using Numpy is that it is faster than list and it is more efficient in terms of memory usage"
      ],
      "metadata": {
        "id": "isCuHqypsGjv"
      },
      "id": "isCuHqypsGjv",
      "execution_count": 11,
      "outputs": []
    },
    {
      "cell_type": "markdown",
      "id": "8a3cb3bb",
      "metadata": {
        "id": "8a3cb3bb"
      },
      "source": [
        "\n",
        "# Data Manipulation with Pandas\n",
        "\n",
        "Pandas is an open-source data analysis and manipulation tool, built on top of the Python programming language.\n",
        "\n",
        "## Task\n",
        "Read a CSV file into a DataFrame, display the first few rows, and filter the data based on a condition.\n",
        "\n",
        "## Assessment Question\n",
        "- Describe how a Pandas DataFrame is different from a NumPy array.\n"
      ]
    },
    {
      "cell_type": "code",
      "execution_count": 12,
      "metadata": {
        "colab": {
          "base_uri": "https://localhost:8080/"
        },
        "outputId": "9e46ff85-87f1-4da6-92ab-69f95c851fbc",
        "id": "7DxOVxuSvHTI"
      },
      "outputs": [
        {
          "output_type": "stream",
          "name": "stdout",
          "text": [
            "   USERS  PEDESTRIANS  CARS  IN_BANK  DF_BANK  DF_SAME_ATM  DF_DIFF_ATM  \\\n",
            "0   1877          338  2180        1      0.0          4.3          0.0   \n",
            "1   1498          811  4352        0      0.5          0.5          3.7   \n",
            "2   1421          961  5526        0      5.6          2.7          2.7   \n",
            "3    -56          491  2806        1      0.0          1.4          0.0   \n",
            "4   1039          483  3119        1      0.0          1.7          1.9   \n",
            "\n",
            "     POP  AVG_INC  VIOLENT     LOCATION  \n",
            "0   3000    61000       15         MALL  \n",
            "1  17000    61000        4  RESIDENTIAL  \n",
            "2  11000    76000       19  RESIDENTIAL  \n",
            "3  15000    81000       44         MALL  \n",
            "4  10000    60000        7     BUSINESS  \n"
          ]
        }
      ],
      "source": [
        "import pandas as pd\n",
        "df = pd.read_csv('ATM.csv')\n",
        "print(df.head())\n",
        "\n"
      ],
      "id": "7DxOVxuSvHTI"
    },
    {
      "cell_type": "code",
      "execution_count": 13,
      "metadata": {
        "colab": {
          "base_uri": "https://localhost:8080/"
        },
        "outputId": "ef421387-3ffd-40ff-de6e-61bf2b01f1d1",
        "id": "aGceJ2YRvMpG"
      },
      "outputs": [
        {
          "output_type": "stream",
          "name": "stdout",
          "text": [
            "    USERS  PEDESTRIANS   CARS  IN_BANK  DF_BANK  DF_SAME_ATM  DF_DIFF_ATM  \\\n",
            "0    1877          338   2180        1      0.0          4.3          0.0   \n",
            "3     -56          491   2806        1      0.0          1.4          0.0   \n",
            "16    590          499   4070        1      0.0          1.7          0.0   \n",
            "17   1283         1587   7479        0      1.9          1.2          0.0   \n",
            "18   1591         1356   6704        1      0.0          2.5          0.0   \n",
            "21    639          603   4739        0      2.0          1.6          0.0   \n",
            "37   1022         1260   5924        0      0.1          0.1          0.0   \n",
            "40   2144          878   5959        0      5.4          4.0          0.0   \n",
            "41    835          670   3465        0      1.6          1.6          0.0   \n",
            "48    696         1080   5783        1      0.0          0.8          0.0   \n",
            "54   1624         2771  11455        0      2.3          2.3          0.0   \n",
            "56   2476         2296  10581        1      0.0          3.5          0.0   \n",
            "57    351          644   7234        0      1.2          1.2          0.0   \n",
            "59   1605          708   5875        1      0.0          3.8          0.0   \n",
            "63    649          851   4564        0      1.8          1.8          0.0   \n",
            "66   1863         1965  10544        0      2.8          1.7          0.0   \n",
            "67   3569         3772  16409        0      3.8          3.8          0.0   \n",
            "69    436           60   2603        0      6.4          3.2          0.0   \n",
            "71   1828         2713  13870        0      6.0          1.1          0.0   \n",
            "76    941          586   5465        0      1.4          1.4          0.0   \n",
            "79   2505         2372  11036        0      4.9          3.6          0.0   \n",
            "80    306         1026   5650        0      0.2          0.2          0.0   \n",
            "\n",
            "      POP  AVG_INC  VIOLENT LOCATION  \n",
            "0    3000    61000       15     MALL  \n",
            "3   15000    81000       44     MALL  \n",
            "16   6000    53000       19     MALL  \n",
            "17  12000    69000       29     MALL  \n",
            "18   9000    67000       15     MALL  \n",
            "21   5000    86000       12     MALL  \n",
            "37  16000    74000        9     MALL  \n",
            "40   7000    60000        9     MALL  \n",
            "41  10000    78000       15     MALL  \n",
            "48   7000    63000       39     MALL  \n",
            "54  13000    66000       34     MALL  \n",
            "56  16000    53000        4     MALL  \n",
            "57  13000    51000       52     MALL  \n",
            "59   8000    73000       16     MALL  \n",
            "63  16000    84000       18     MALL  \n",
            "66  12000    76000        8     MALL  \n",
            "67  20000    65000       28     MALL  \n",
            "69  13000    45000       83     MALL  \n",
            "71  19000    71000       18     MALL  \n",
            "76   8000   101000        0     MALL  \n",
            "79  18000    68000       12     MALL  \n",
            "80  15000    66000       39     MALL  \n"
          ]
        }
      ],
      "source": [
        "print(df.loc[df['LOCATION'] == 'MALL'])"
      ],
      "id": "aGceJ2YRvMpG"
    },
    {
      "cell_type": "code",
      "source": [
        "#  difference between Pandas and Numpy is that Pnadas is used for Data AnalysisThe"
      ],
      "metadata": {
        "id": "_1OeFn6nvbKK"
      },
      "id": "_1OeFn6nvbKK",
      "execution_count": 14,
      "outputs": []
    },
    {
      "cell_type": "markdown",
      "id": "e6e65672",
      "metadata": {
        "id": "e6e65672"
      },
      "source": [
        "\n",
        "# Data Visualization with Matplotlib\n",
        "\n",
        "Matplotlib is a comprehensive library for creating static, animated, and interactive visualizations in Python.\n",
        "\n",
        "## Task\n",
        "Create a basic plot (line plot or bar chart) using data from a Pandas DataFrame.\n",
        "\n",
        "## Assessment Question\n",
        "- Why is data visualization important in data analysis?\n"
      ]
    },
    {
      "cell_type": "code",
      "execution_count": 15,
      "id": "0b3deb39",
      "metadata": {
        "colab": {
          "base_uri": "https://localhost:8080/",
          "height": 430
        },
        "id": "0b3deb39",
        "outputId": "b7ac8a42-909b-49ac-c755-bbd9cc325342"
      },
      "outputs": [
        {
          "output_type": "display_data",
          "data": {
            "text/plain": [
              "<Figure size 640x480 with 1 Axes>"
            ],
            "image/png": "[encoded data removed]"
          },
          "metadata": {}
        }
      ],
      "source": [
        "import matplotlib.pyplot as plt\n",
        "df['VIOLENT'].plot(kind='hist')\n",
        "plt.show()\n"
      ]
    },
    {
      "cell_type": "code",
      "source": [
        "# Data Visualization is Important because it helps to understand the data better and helps make better decision"
      ],
      "metadata": {
        "id": "XufS6dtRv92t"
      },
      "id": "XufS6dtRv92t",
      "execution_count": 16,
      "outputs": []
    },
    {
      "cell_type": "markdown",
      "id": "fb0497c6",
      "metadata": {
        "id": "fb0497c6"
      },
      "source": [
        "\n",
        "# Basic File Operations in Python\n",
        "\n",
        "File operations are fundamental for data processing. In this section, we'll cover how to read from and write to files in Python.\n",
        "\n",
        "## Task\n",
        "Write a Python script to read a text file and count the frequency of each word in the file.\n",
        "\n",
        "## Assessment Question\n",
        "- Discuss the different modes of opening a file in Python.\n"
      ]
    },
    {
      "cell_type": "code",
      "execution_count": 17,
      "id": "9c87e75d",
      "metadata": {
        "colab": {
          "base_uri": "https://localhost:8080/"
        },
        "id": "9c87e75d",
        "outputId": "836c5bc6-d1ec-441f-b927-94d09fd349f2"
      },
      "outputs": [
        {
          "output_type": "stream",
          "name": "stdout",
          "text": [
            "{'in': 3, 'the': 23, 'shadows': 1, 'of': 15, 'forest': 1, 'that': 6, 'flanks': 1, 'crimson': 1, 'plain': 1, 'by': 1, 'side': 1, 'lost': 1, 'sea': 1, 'korus': 1, 'valley': 1, 'dor': 1, 'beneath': 1, 'hurtling': 1, 'moons': 1, 'mars': 1, 'speeding': 1, 'their': 1, 'meteoric': 1, 'way': 1, 'close': 1, 'above': 1, 'bosom': 1, 'dying': 1, 'planet': 1, 'i': 4, 'crept': 1, 'stealthily': 1, 'along': 1, 'trail': 1, 'a': 3, 'shadowy': 1, 'form': 1, 'hugged': 1, 'darker': 1, 'places': 1, 'with': 3, 'persistency': 1, 'proclaimed': 1, 'sinister': 1, 'nature': 1, 'its': 1, 'errand': 1, 'had': 4, 'phaidors': 1, 'slim': 1, 'blade': 1, 'found': 1, 'beloved': 1, 'heart': 1, 'time': 1, 'only': 1, 'would': 2, 'reveal': 1, 'truth': 1, 'half': 1, 'them': 1, 'passed': 1, 'or': 2, 'on': 1, 'morrow': 1, 'yet': 1, 'vivid': 1, 'my': 2, 'memory': 1, 'obliterating': 1, 'every': 1, 'event': 1, 'come': 1, 'before': 2, 'after': 1, 'there': 1, 'remained': 1, 'last': 1, 'scene': 1, 'gust': 1, 'smoke': 1, 'blinded': 1, 'eyes': 1, 'and': 3, 'narrow': 1, 'slit': 1, 'given': 1, 'me': 2, 'sight': 1, 'interior': 1, 'her': 1, 'cell': 1, 'closed': 1, 'between': 1, 'princess': 1, 'helium': 1, 'for': 1, 'long': 1, 'martian': 1, 'year': 1, 'as': 2, 'if': 1, 'it': 1, 'were': 1, 'yesterday': 1, 'still': 1, 'saw': 2, 'beautiful': 1, 'face': 1, 'phaidor': 1, 'daughter': 1, 'matai': 1, 'shang': 1, 'distorted': 1, 'jealous': 1, 'rage': 1, 'hatred': 1, 'she': 1, 'sprang': 1, 'forward': 2, 'raised': 1, 'dagger': 1, 'upon': 1, 'woman': 1, 'loved': 1, 'red': 1, 'girl': 1, 'thuvia': 1, 'ptarth': 1, 'leap': 1, 'to': 1, 'prevent': 1, 'hideous': 1, 'deed': 1}\n"
          ]
        }
      ],
      "source": [
        "import re\n",
        "file = open('corpus5.txt','r')\n",
        "file_content=file.read()\n",
        "file.close()\n",
        "file_content=file_content.split()\n",
        "word_counts={}\n",
        "for word in file_content:\n",
        "    if word != \"\":\n",
        "        word = word.lower()\n",
        "        word = re.sub(r'[^a-z]', '', word)\n",
        "        if word not in word_counts.keys():\n",
        "            word_counts.update({word:1})\n",
        "        else:\n",
        "            word_counts[word] += 1\n",
        "print(word_counts)"
      ]
    },
    {
      "cell_type": "code",
      "source": [
        "# While operating a file we can use \"r\" for read mode, \"w\" for write mode, \"a\" for append mode, \"x\" for just creation of the document"
      ],
      "metadata": {
        "id": "xUISLp1QITYL"
      },
      "id": "xUISLp1QITYL",
      "execution_count": 18,
      "outputs": []
    },
    {
      "cell_type": "markdown",
      "id": "f0324bd0",
      "metadata": {
        "id": "f0324bd0"
      },
      "source": [
        "\n",
        "# Introduction to SciPy\n",
        "\n",
        "SciPy is a Python-based ecosystem of open-source software for mathematics, science, and engineering.\n",
        "\n",
        "## Task\n",
        "Demonstrate a simple mathematical operation using SciPy, like solving a linear equation.\n",
        "\n",
        "## Assessment Question\n",
        "- What is the role of SciPy in scientific computing with Python?\n"
      ]
    },
    {
      "cell_type": "code",
      "execution_count": 19,
      "id": "8dcbaa56",
      "metadata": {
        "colab": {
          "base_uri": "https://localhost:8080/"
        },
        "id": "8dcbaa56",
        "outputId": "7e5175cb-ec35-4dfb-a0b3-f7b28a6b10c8"
      },
      "outputs": [
        {
          "output_type": "stream",
          "name": "stdout",
          "text": [
            "[-2.  2.]\n"
          ]
        }
      ],
      "source": [
        "from scipy.linalg import solve\n",
        "a = np.array([[1, 2], [3, 4]])\n",
        "b = np.array([2, 2])\n",
        "x = solve(a, b)\n",
        "print(x)"
      ]
    },
    {
      "cell_type": "code",
      "source": [
        "# SciPy is a powerful tool that extends the capabilities of NumPy and provides a comprehensive suite of tools for scientific and technical computing."
      ],
      "metadata": {
        "id": "d-W4moKeziYF"
      },
      "id": "d-W4moKeziYF",
      "execution_count": 20,
      "outputs": []
    },
    {
      "cell_type": "markdown",
      "id": "9052c5f9",
      "metadata": {
        "id": "9052c5f9"
      },
      "source": [
        "## Submission\n",
        "Submit a link to your completed Jupyter Notebook file hosted on your private GitHub repository through the submission link in Blackboard."
      ]
    }
  ],
  "metadata": {
    "language_info": {
      "name": "python"
    },
    "colab": {
      "provenance": []
    },
    "kernelspec": {
      "name": "python3",
      "display_name": "Python 3"
    }
  },
  "nbformat": 4,
  "nbformat_minor": 5
}